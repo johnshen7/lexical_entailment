{
 "cells": [
  {
   "cell_type": "code",
   "execution_count": 1,
   "metadata": {
    "collapsed": true
   },
   "outputs": [],
   "source": [
    "import gensim\n",
    "import sklearn\n",
    "from sklearn.externals import joblib\n",
    "from sklearn import svm"
   ]
  },
  {
   "cell_type": "code",
   "execution_count": 3,
   "metadata": {},
   "outputs": [],
   "source": [
    "model = gensim.models.KeyedVectors.load_word2vec_format('vectors/GoogleNews-vectors-negative300.bin', binary=True)"
   ]
  },
  {
   "cell_type": "code",
   "execution_count": 4,
   "metadata": {},
   "outputs": [
    {
     "data": {
      "text/plain": [
       "0.76640122309953518"
      ]
     },
     "execution_count": 4,
     "metadata": {},
     "output_type": "execute_result"
    }
   ],
   "source": [
    "model.wv.similarity('woman', 'man')\n",
    "\n",
    "\n"
   ]
  },
  {
   "cell_type": "code",
   "execution_count": 5,
   "metadata": {},
   "outputs": [
    {
     "name": "stdout",
     "output_type": "stream",
     "text": [
      "test : percentage non-nan correct: 0.923381396664\n",
      "test : percentage correct overall 0.894794520548\n",
      "val : percentage non-nan correct: 0.931343283582\n",
      "val : percentage correct overall 0.871508379888\n"
     ]
    }
   ],
   "source": [
    "from sklearn.externals import joblib\n",
    "import pandas as pd\n",
    "from sklearn.metrics import accuracy_score\n",
    "\n",
    "clf = joblib.load('models/svm.pkl') \n",
    "\n",
    "test_vectorized = pd.read_csv('lexical_entailment/bless2011/data_lex_test_vectorized.tsv', sep='\\t', header=None)\n",
    "val_vectorized = pd.read_csv('lexical_entailment/bless2011/data_lex_val_vectorized.tsv', sep='\\t', header=None)\n",
    "\n",
    "# Test and validation in one go bc i'm lazy\n",
    "for test_name, test_df in zip(['test', 'val'], [test_vectorized, val_vectorized]):\n",
    "\torig_rows, orig_cols = test_df.shape\n",
    "\n",
    "\t# Remove rows with NaN\n",
    "\ttest_df.dropna(axis=0, inplace=True)\n",
    "\n",
    "\t# Count number of rows removed\n",
    "\tdiff = orig_rows - test_df.shape[0]\n",
    "\n",
    "\tX = test_df.iloc[:, :-1]\n",
    "\ty = test_df.iloc[:, -1]\n",
    "\n",
    "\tpreds = clf.predict(X)\n",
    "\n",
    "\tnum_correct = accuracy_score(y, preds, normalize=False)\n",
    "\n",
    "\tprint test_name, \": percentage non-nan correct:\", num_correct/float(test_df.shape[0]) \n",
    "\tprint test_name, \": percentage correct overall\", num_correct/float(orig_rows)\n",
    "    "
   ]
  },
  {
   "cell_type": "code",
   "execution_count": 12,
   "metadata": {},
   "outputs": [
    {
     "data": {
      "text/plain": [
       "LinearSVC(C=1.0, class_weight='balanced', dual=True, fit_intercept=True,\n",
       "     intercept_scaling=1, loss='squared_hinge', max_iter=1000,\n",
       "     multi_class='ovr', penalty='l2', random_state=None, tol=0.0001,\n",
       "     verbose=0)"
      ]
     },
     "execution_count": 12,
     "metadata": {},
     "output_type": "execute_result"
    }
   ],
   "source": [
    "train = pd.read_csv('lexical_entailment/bless2011/data_lex_train_vectorized_asym.tsv', sep='\\t', header=None)\n",
    "train.dropna(axis=0, inplace=True)\n",
    "X = train.iloc[:, :-1]\n",
    "y = train.iloc[:, -1]\n",
    "\n",
    "clf = svm.LinearSVC(class_weight='balanced')\n",
    "clf.fit(X, y)"
   ]
  },
  {
   "cell_type": "code",
   "execution_count": 22,
   "metadata": {},
   "outputs": [
    {
     "data": {
      "text/plain": [
       "array([[-0.49308603,  0.34003836,  0.46912924,  0.11621957,  1.23653491,\n",
       "        -0.38403792, -1.01614184, -0.07808303, -0.16723804,  1.03401088,\n",
       "         0.20314171,  1.10102852,  0.01577937, -0.10991365, -0.03696456,\n",
       "         0.42136979,  0.09331233,  0.57645631, -0.56390412, -0.170867  ,\n",
       "        -0.00471364,  1.06828664,  0.63652294, -0.43181467, -0.64496962,\n",
       "         0.1871348 ,  0.18631261, -0.08315926,  0.42526042,  0.36943712,\n",
       "         0.62032774,  0.79282776, -0.02282934, -0.28663304, -0.1269898 ,\n",
       "        -0.76709666,  0.68522672,  0.98283319,  0.34055238, -0.2578815 ,\n",
       "        -0.24615537, -0.84236196,  0.73760476,  0.07406205, -0.1077655 ,\n",
       "        -0.06704011,  0.29467109, -0.57944896, -0.11359085,  0.5628705 ,\n",
       "        -0.48747097,  0.74891291, -0.08657377,  0.35194516,  0.27134764,\n",
       "        -0.18206729, -1.25931868, -0.28736611,  0.04231769, -0.14089536,\n",
       "        -0.45065302,  1.00489075, -0.00928573, -0.0936773 ,  1.14136614,\n",
       "        -0.1609479 ,  0.15626993,  0.21002019, -0.40977027, -0.51132022,\n",
       "         0.05865314,  0.08861554,  0.91355017,  0.1783623 , -0.37850792,\n",
       "         0.0463301 ,  1.00146662, -0.06182373, -0.60337081,  0.41428172,\n",
       "        -0.04582345, -0.48805484, -0.27069932, -0.33363326, -0.31547359,\n",
       "         0.17516101,  0.5436061 ,  0.59784456,  0.81958598,  0.39763529,\n",
       "        -0.10902965, -0.42990309, -0.63774796,  0.92777313, -0.71930924,\n",
       "         0.19196954,  0.83639163, -0.76875088,  0.710864  , -0.01430047,\n",
       "        -0.06766375,  0.1248538 , -0.98653039, -0.05019646,  0.45643128,\n",
       "        -0.04636309, -0.23000581,  0.2772559 , -0.04046907, -0.70392346,\n",
       "         0.26724102, -0.33775496,  0.18528494, -0.10164672,  0.36819874,\n",
       "        -0.09025997,  0.17657162, -0.34232969,  0.39038821,  0.66860503,\n",
       "         0.36326908,  0.7126281 , -0.59206792,  0.31369895,  0.6735412 ,\n",
       "        -0.68071649,  0.83717604, -0.15065828,  0.71716777,  0.40750015,\n",
       "        -1.30757556, -0.30938709,  0.23183319, -0.44914503, -0.65948867,\n",
       "         0.16890254, -0.36639938,  0.45229727,  0.16959535,  0.24996344,\n",
       "        -0.35656887,  0.30169418, -0.58720878, -0.34438052, -0.25403741,\n",
       "         0.07477979, -0.8585632 ,  0.02106948,  0.57979356, -0.53156111,\n",
       "        -0.20680143, -0.06283029, -0.43392875, -0.26599933, -0.10360431,\n",
       "        -0.12892004, -0.99503745,  0.84637769, -0.84139395,  0.72106995,\n",
       "        -0.05045669,  0.49311342,  0.53263589,  0.66098276, -0.26558732,\n",
       "        -0.5435138 ,  0.30905444, -0.17956725,  0.82627571,  0.07142261,\n",
       "         0.30749578,  0.04678338,  1.29274822,  0.51278463,  0.16580875,\n",
       "        -0.07774077, -0.80167523, -0.32585998,  0.5285379 , -0.07054859,\n",
       "        -0.3609744 ,  0.49389048, -0.49946925,  0.27467394, -0.45801716,\n",
       "        -0.15817626,  0.36963653,  0.14406956,  0.58669487,  0.84009138,\n",
       "         0.05847341,  0.14529812, -0.55587514,  0.27450314,  0.18133334,\n",
       "        -0.17849797, -0.14538488,  0.68191129,  0.90883241,  0.51450459,\n",
       "         0.01312502, -0.03255757,  0.42225017,  0.00332352,  0.72530557,\n",
       "        -0.01951865,  0.24466884,  0.21380709, -1.34852866, -0.06981262,\n",
       "        -0.2919034 , -0.3282823 ,  0.57752789, -0.25014939, -0.11249907,\n",
       "        -0.05132076,  0.68899264, -0.07736216, -0.91039768, -0.12869347,\n",
       "        -0.53915329,  1.52245363,  0.28642733,  0.03510355,  0.16829489,\n",
       "        -0.32895134, -0.02082619,  0.6421346 ,  0.52761381, -1.0688779 ,\n",
       "        -0.036704  ,  0.14379946,  0.18430822,  0.62322742, -0.04158859,\n",
       "         0.15765837,  0.75678479,  0.01691389,  0.47150784,  0.15733749,\n",
       "        -0.59934585,  0.74977706, -0.53395372,  0.29732878, -0.48790948,\n",
       "        -0.62713197, -0.19659765,  0.18599156,  0.41254201,  0.39517199,\n",
       "         0.20479438,  0.0271896 ,  0.74159923,  0.16003272, -0.01088831,\n",
       "        -0.77495969, -0.16167855,  0.1241373 , -0.65906795,  0.32525724,\n",
       "        -0.57147266,  0.7469812 ,  0.01248472,  0.2958339 ,  1.07709735,\n",
       "        -0.02068965, -0.26911214, -0.6842653 , -0.00236292,  0.8311682 ,\n",
       "         0.00583128,  0.14608695, -0.29580901,  0.30072386, -0.8027701 ,\n",
       "         0.07416225,  0.74469735,  0.11312186,  0.0105835 , -0.00208671,\n",
       "         0.14573814,  1.19870204,  0.18409393,  0.07585713, -0.56894745,\n",
       "        -0.04515366, -0.14287544, -0.55822305, -0.38390618,  0.18068595,\n",
       "         0.52699212, -0.81473708, -0.01408642, -0.40475317, -0.33153678,\n",
       "         0.00178478,  0.54577885, -0.8917039 , -0.55915925, -0.89202974,\n",
       "        -1.17915756]])"
      ]
     },
     "execution_count": 22,
     "metadata": {},
     "output_type": "execute_result"
    }
   ],
   "source": [
    "clf.coef_"
   ]
  },
  {
   "cell_type": "code",
   "execution_count": 25,
   "metadata": {},
   "outputs": [],
   "source": [
    "test_vectorized = pd.read_csv('lexical_entailment/bless2011/data_lex_test_vectorized_asym.tsv', sep='\\t', header=None)\n",
    "test = pd.read_csv('lexical_entailment/bless2011/data_lex_test.tsv', sep='\\t', header=None)\n",
    "val_vectorized = pd.read_csv('lexical_entailment/bless2011/data_lex_val_vectorized_asym.tsv', sep='\\t', header=None)"
   ]
  },
  {
   "cell_type": "code",
   "execution_count": 38,
   "metadata": {},
   "outputs": [],
   "source": [
    "test_df = val_vectorized\n",
    "test_df.dropna(axis=0, inplace=True)\n",
    "X = test_df.iloc[:, :-1]\n",
    "y = test_df.iloc[:, -1]"
   ]
  },
  {
   "cell_type": "code",
   "execution_count": 42,
   "metadata": {},
   "outputs": [],
   "source": [
    "preds = clf.predict(X)"
   ]
  },
  {
   "cell_type": "code",
   "execution_count": 43,
   "metadata": {},
   "outputs": [
    {
     "name": "stdout",
     "output_type": "stream",
     "text": [
      "precision 0.806451612903\n",
      "recall 0.892857142857\n",
      "f1 0.847457627119\n",
      "True 0.892857142857\n",
      "False 0.980456026059\n"
     ]
    }
   ],
   "source": [
    "print \"precision\", metrics.precision_score(y, preds)\n",
    "print \"recall\", metrics.recall_score(y, preds)\n",
    "print \"f1\", metrics.f1_score(y, preds)\n",
    "print \"True\", metrics.accuracy_score(y[y == 1], preds[y == 1])\n",
    "print \"False\", metrics.accuracy_score(y[y == 0], preds[y == 0])"
   ]
  },
  {
   "cell_type": "code",
   "execution_count": null,
   "metadata": {
    "collapsed": true
   },
   "outputs": [],
   "source": []
  }
 ],
 "metadata": {
  "kernelspec": {
   "display_name": "Python 2",
   "language": "python",
   "name": "python2"
  },
  "language_info": {
   "codemirror_mode": {
    "name": "ipython",
    "version": 2
   },
   "file_extension": ".py",
   "mimetype": "text/x-python",
   "name": "python",
   "nbconvert_exporter": "python",
   "pygments_lexer": "ipython2",
   "version": "2.7.13"
  }
 },
 "nbformat": 4,
 "nbformat_minor": 2
}
